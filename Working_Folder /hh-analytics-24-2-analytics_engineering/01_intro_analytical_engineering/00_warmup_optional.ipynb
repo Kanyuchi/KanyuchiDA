{
 "cells": [
  {
   "cell_type": "markdown",
   "metadata": {},
   "source": [
    "> ### Warm up exercise:\n",
    ">\n",
    "> To start the second week of working with databases we want to come back to the data protection topic. \n",
    "> This warm up exercise is meant to prepare the students for how to work with credentials this week.\n",
    "> Split the students into 3 groups and assign every group with one question:\n",
    ">\n",
    "> - what is a bad password? (present some concrete ideas)\n",
    ">   - the same password everywhere\n",
    ">    - set of consecutive numbers like 123456...\n",
    ">    - string 'password', 'qwerty', etc.\n",
    ">    - short password\n",
    ">    - only (lowercase) letters\n",
    ">    - including your name or any other personal data in the password\n",
    ">    - using real words\n",
    ">\n",
    "> - how to not store a password?\n",
    ">   - on a piece of paper\n",
    ">   - or in general in a place easily visible by others\n",
    ">    - github\n",
    ">    - shared file\n",
    ">    - sent as a message to someone \n",
    ">\n",
    "> - what might go wrong when experiencing a data breach?\n",
    "> - identity stealing\n",
    ">   - money stealing\n",
    ">    - personal data leakage...\n",
    "\n",
    "After the group work, ask the students to present their ideas.\n",
    "At the end mention that we will try to make storing credentials more secure this week."
   ]
  }
 ],
 "metadata": {
  "language_info": {
   "name": "python"
  }
 },
 "nbformat": 4,
 "nbformat_minor": 2
}
