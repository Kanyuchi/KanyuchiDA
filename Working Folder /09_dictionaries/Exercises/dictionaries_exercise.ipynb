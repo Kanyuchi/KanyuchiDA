{
 "cells": [
  {
   "cell_type": "markdown",
   "metadata": {},
   "source": [
    "# Dictionaries"
   ]
  },
  {
   "cell_type": "markdown",
   "metadata": {},
   "source": [
    "## Check your understanding!\n",
    "\n",
    "**1 - Dictionary Basics**\n",
    "\n",
    "1. Make a dictionary called `restaurant_types` that has the following associated `key-value` pairs: `('Red Lobster', 'Seafood')`, `('Burger King', 'Fast Food')`, `('Safeway', 'Grocery Store')`.\n",
    "\n",
    "2. How do you find the restaurant type for `'Burger King'`?\n",
    "3. What if you don't know whether or not `'Outback Steakhouse'` is in the `restaurant_types` dictionary - how would you go about trying to get it's restaurant type and make sure that you won't get an error?"
   ]
  },
  {
   "cell_type": "code",
   "execution_count": 7,
   "metadata": {},
   "outputs": [],
   "source": [
    "restaurant_types = {'Red Lobster':'Seafood', 'Burger King':'Fast Food', 'Safeway':'Grocery Store'}"
   ]
  },
  {
   "cell_type": "code",
   "execution_count": 8,
   "metadata": {},
   "outputs": [
    {
     "name": "stdout",
     "output_type": "stream",
     "text": [
      "Fast Food\n"
     ]
    }
   ],
   "source": [
    "print(restaurant_types['Burger King'])"
   ]
  },
  {
   "cell_type": "code",
   "execution_count": 19,
   "metadata": {},
   "outputs": [],
   "source": [
    "restaurant_types = {\n",
    "    'Red Lobster': 'Seafood',\n",
    "    'Burger King': 'Fast Food',\n",
    "    'Safeway': 'Grocery Store'}"
   ]
  },
  {
   "cell_type": "code",
   "execution_count": 20,
   "metadata": {},
   "outputs": [],
   "source": [
    "restaurant_types = restaurant_types.get('Outback Steakhouse', 'Unknown')\n",
    "\n"
   ]
  },
  {
   "cell_type": "code",
   "execution_count": 21,
   "metadata": {},
   "outputs": [
    {
     "name": "stdout",
     "output_type": "stream",
     "text": [
      "The restaurant type for Outback Steakhouse is: Unknown\n"
     ]
    }
   ],
   "source": [
    "\n",
    "print(\"The restaurant type for Outback Steakhouse is:\", restaurant_types)"
   ]
  },
  {
   "cell_type": "code",
   "execution_count": 43,
   "metadata": {},
   "outputs": [],
   "source": [
    "restaurant_types['Outbacks Steakhouse'] = 'Delicious!'"
   ]
  },
  {
   "cell_type": "code",
   "execution_count": 27,
   "metadata": {},
   "outputs": [
    {
     "name": "stdout",
     "output_type": "stream",
     "text": [
      "<class 'dict'>\n"
     ]
    }
   ],
   "source": [
    "print(type(restaurant_types))\n"
   ]
  },
  {
   "cell_type": "code",
   "execution_count": 44,
   "metadata": {},
   "outputs": [],
   "source": [
    "restaurant_types = {\n",
    "    'Red Lobster': 'Seafood',\n",
    "    'Burger King': 'Fast Food',\n",
    "    'Safeway': 'Grocery Store'\n",
    "}"
   ]
  },
  {
   "cell_type": "code",
   "execution_count": 45,
   "metadata": {},
   "outputs": [
    {
     "name": "stdout",
     "output_type": "stream",
     "text": [
      "{'Red Lobster': 'Seafood', 'Burger King': 'Fast Food', 'Safeway': 'Grocery Store'}\n"
     ]
    }
   ],
   "source": [
    "print(restaurant_types)"
   ]
  },
  {
   "cell_type": "code",
   "execution_count": 30,
   "metadata": {},
   "outputs": [],
   "source": [
    "restaurant_types['Safeway'] = 'Grocery'\n"
   ]
  },
  {
   "cell_type": "markdown",
   "metadata": {},
   "source": [
    "**2 - Mutating Dictionaries**\n",
    "\n",
    "1. Using the same resturant type dictionary from the last question set, add to it the key-value pair, `('Outback Steakhouse', 'Delicious!')`.\n",
    "2. What if we want to change the restaurant type of `'Safeway'` to just `'Grocery'` - how would you make that change?\n",
    "3. Considering that we quite like `Outback Steakhouse`, it's reasonable to assume that we don't particularly like `'Burger King'`. Remove the `'Burger King'` entry from the dictionary. There are a couple of ways you can figure out how to do this:\n",
    "    1. Try tab completing on the dictionary and see if there are any methods that look like they could help.\n",
    "    2. Look at the docs for Python dictionaries.\n",
    "    3. Google it."
   ]
  },
  {
   "cell_type": "code",
   "execution_count": 35,
   "metadata": {},
   "outputs": [
    {
     "ename": "TypeError",
     "evalue": "unhashable type: 'list'",
     "output_type": "error",
     "traceback": [
      "\u001b[0;31m---------------------------------------------------------------------------\u001b[0m",
      "\u001b[0;31mTypeError\u001b[0m                                 Traceback (most recent call last)",
      "Cell \u001b[0;32mIn[35], line 2\u001b[0m\n\u001b[1;32m      1\u001b[0m restaurant_types\u001b[38;5;241m.\u001b[39mkeys\n\u001b[0;32m----> 2\u001b[0m \u001b[43mrestaurant_types\u001b[49m\u001b[38;5;241;43m.\u001b[39;49m\u001b[43mpop\u001b[49m\u001b[43m(\u001b[49m\u001b[43m[\u001b[49m\u001b[38;5;124;43m'\u001b[39;49m\u001b[38;5;124;43mBurger King\u001b[39;49m\u001b[38;5;124;43m'\u001b[39;49m\u001b[43m]\u001b[49m\u001b[43m)\u001b[49m\n",
      "\u001b[0;31mTypeError\u001b[0m: unhashable type: 'list'"
     ]
    }
   ],
   "source": [
    "restaurant_types.keys\n",
    "restaurant_types.pop([\"Burger King\": \"Fast Food\"])"
   ]
  },
  {
   "cell_type": "code",
   "execution_count": 36,
   "metadata": {},
   "outputs": [
    {
     "name": "stdout",
     "output_type": "stream",
     "text": [
      "Removed 'Burger King' with value: Fast Food\n"
     ]
    }
   ],
   "source": [
    "removed_value = restaurant_types.pop('Burger King', None)  # None is returned if the key does not exist\n",
    "print(\"Removed 'Burger King' with value:\", removed_value)\n"
   ]
  },
  {
   "cell_type": "code",
   "execution_count": 37,
   "metadata": {},
   "outputs": [
    {
     "data": {
      "text/plain": [
       "['Red Lobster', 'Safeway', 'Outbacks Steakhouse']"
      ]
     },
     "execution_count": 37,
     "metadata": {},
     "output_type": "execute_result"
    }
   ],
   "source": [
    "list(restaurant_types)"
   ]
  },
  {
   "cell_type": "code",
   "execution_count": 38,
   "metadata": {},
   "outputs": [
    {
     "data": {
      "text/plain": [
       "{'Red Lobster': 'Seafood',\n",
       " 'Safeway': 'Grocery',\n",
       " 'Outbacks Steakhouse': 'Delicious!'}"
      ]
     },
     "execution_count": 38,
     "metadata": {},
     "output_type": "execute_result"
    }
   ],
   "source": [
    "restaurant_types"
   ]
  },
  {
   "cell_type": "code",
   "execution_count": 41,
   "metadata": {},
   "outputs": [],
   "source": [
    "if 'Burger King' in restaurant_types:\n",
    "    del restaurant_types['Burger King']\n",
    "    print(\"'Burger King' has been removed from the dictionary.\")\n",
    "\n",
    "\n"
   ]
  },
  {
   "cell_type": "markdown",
   "metadata": {},
   "source": [
    "**3 - Nested Dictionaries**\n",
    "\n",
    "Given is the following dictionary `weather_data`.\n",
    "\n",
    "1. Look at this dictionary and describe in a few words what information is stored here.\n",
    "2. How many keys does it have?\n",
    "3. For each key, list the object-type of the value with `type()`.\n",
    "4. Print the value for the key `wind`. Assign the value to a new variables called `wind_data`.\n",
    "5. Print the following values by accessing data from the dictionary:\n",
    "    - the name of the city\n",
    "    - the lat and lon coordinates\n",
    "    - the weather description\n"
   ]
  },
  {
   "cell_type": "code",
   "execution_count": 46,
   "metadata": {},
   "outputs": [],
   "source": [
    "weather_data = {\n",
    "    'city': 'Harare',\n",
    "    'coordinates': {'lat': 52.52, 'lon': 13.405},\n",
    "    'temperature': {'current': 13, 'high': 15, 'low': 7},\n",
    "    'humidity': 80,\n",
    "    'wind': {'speed': 5, 'direction': 'NE'},\n",
    "    'weather': {'main': 'Cloudy', 'description': 'overcast clouds'}\n",
    "}\n"
   ]
  },
  {
   "cell_type": "code",
   "execution_count": 49,
   "metadata": {},
   "outputs": [],
   "source": [
    "number_of_keys =len(weather_data)"
   ]
  },
  {
   "cell_type": "code",
   "execution_count": 50,
   "metadata": {},
   "outputs": [
    {
     "name": "stdout",
     "output_type": "stream",
     "text": [
      "the nuber of keys in the dictionary is: 6\n"
     ]
    }
   ],
   "source": [
    "print(\"the nuber of keys in the dictionary is:\", number_of_keys)"
   ]
  },
  {
   "cell_type": "markdown",
   "metadata": {},
   "source": [
    "## 3. For each key, list the object-type of the value with `type()`.\n"
   ]
  },
  {
   "cell_type": "code",
   "execution_count": 52,
   "metadata": {},
   "outputs": [
    {
     "name": "stdout",
     "output_type": "stream",
     "text": [
      "value for key 'city' is: <class 'str'>\n",
      "value for key 'coordinates' is: <class 'dict'>\n",
      "value for key 'temperature' is: <class 'dict'>\n",
      "value for key 'humidity' is: <class 'int'>\n",
      "value for key 'wind' is: <class 'dict'>\n",
      "value for key 'weather' is: <class 'dict'>\n"
     ]
    }
   ],
   "source": [
    "for key, value in weather_data.items():\n",
    "    print(f\"value for key '{key}' is:\", type(value) )"
   ]
  },
  {
   "cell_type": "code",
   "execution_count": null,
   "metadata": {},
   "outputs": [],
   "source": [
    "weather_dictionary = { \"coord\":{\"lon\":10,\n",
    "                                \"lat\":53.55},\n",
    "                        \"weather\":[{\"id\":800,\n",
    "                                    \"main\":\"Clear\",\n",
    "                                    \"description\":\"clear sky\",\n",
    "                                    \"icon\":\"01d\"}],\n",
    "                        \"base\":\"stations\",\n",
    "                        \"main\":{\"temp\":290.32,\n",
    "                                \"feels_like\":290.1,\n",
    "                                \"temp_min\":289.81,\n",
    "                                \"temp_max\":291.05,\n",
    "                                \"pressure\":1005,\n",
    "                                \"humidity\":77},\n",
    "                        \"visibility\":10000,\n",
    "                        \"wind\":{\"speed\":5.14,\n",
    "                                \"deg\":270},\n",
    "                        \"clouds\":{\"all\":0},\n",
    "                        \"dt\":1712655018,\n",
    "                        \"sys\":{\"type\":1,\n",
    "                                \"id\":1263,\n",
    "                                \"country\":\"DE\",\n",
    "                                \"sunrise\":1712637190,\n",
    "                                \"sunset\":1712686163},\n",
    "                        \"timezone\":7200,\n",
    "                        \"id\":2911298,\n",
    "                        \"name\":\"Hamburg\",\n",
    "                        \"cod\":200\n",
    "                    }\n"
   ]
  },
  {
   "cell_type": "code",
   "execution_count": null,
   "metadata": {},
   "outputs": [],
   "source": []
  },
  {
   "cell_type": "markdown",
   "metadata": {},
   "source": [
    "**4 - Dictionary for storing data and make efficient calculations**"
   ]
  },
  {
   "cell_type": "markdown",
   "metadata": {},
   "source": [
    "This is an expansion of the exercise nr. 3 of the list exercises. Same situation, we want to\n",
    "use this cool 'input'-function:\n",
    "```python\n",
    "user_name = input(\"Enter your name: \")\n",
    "greeting = \"Hello, \" + user_name + \"!\"\n",
    "print(greeting)\n",
    "```\n",
    "\n",
    "We'll take our ideas from exercise nr. 4 of the list exercises and expand on it the following way:\n",
    "- Write a program that asks the user 3 questions:\n",
    "    - their name,\n",
    "    - the date of today\n",
    "    - their daily hours of work of this day,\n",
    "    - their money spent on lunch at this day.\n",
    "- This time think about a dictionary structure to store all values that are entered. What makes sense to store as key and what as values? \n",
    "*hint:* name should be definetly a key.\n",
    "- Then, write a for-loop that loops through all keys and calculates the sum of all daily hours worked so far and the average lunch expenses.\n",
    "- Print out the result to us in a nicely formatted way. \n",
    "(If you want to be really pythonic, try to use string formatting with the format-method and f-strings.)\n",
    "\n",
    "Optional task:\n",
    "- add a feature that let's the user tell you to delete a certain element if it was wrong.\n",
    "- we will not describe possible steps for this in more detail, try to come up with a step-by-step solution yourself :-) "
   ]
  },
  {
   "cell_type": "markdown",
   "metadata": {},
   "source": [
    "\n",
    "<details><summary>\n",
    "Click here for a hint…\n",
    "</summary>\n",
    "you could design your dictionary the following way:\n",
    "user_dict = {'Alex': {'2023-10-12': 7.0,\n",
    "                      '2023-10-13': 10.0},\n",
    "            'Param': {'2023-10-11': 8.0}}\n",
    "</details>\n"
   ]
  },
  {
   "cell_type": "code",
   "execution_count": 54,
   "metadata": {},
   "outputs": [
    {
     "ename": "SyntaxError",
     "evalue": "expected ':' (2692005815.py, line 5)",
     "output_type": "error",
     "traceback": [
      "\u001b[0;36m  Cell \u001b[0;32mIn[54], line 5\u001b[0;36m\u001b[0m\n\u001b[0;31m    if user_name.lower() =='dictionaries_exercise.ipynb'\u001b[0m\n\u001b[0m                                                        ^\u001b[0m\n\u001b[0;31mSyntaxError\u001b[0m\u001b[0;31m:\u001b[0m expected ':'\n"
     ]
    }
   ],
   "source": [
    "def main():\n",
    "    users = {}\n",
    "    while True:\n",
    "        user_name = input(\"SHAUN\")\n",
    "        if user_name.lower() =='dictionaries_exercise.ipynb'"
   ]
  },
  {
   "cell_type": "code",
   "execution_count": 57,
   "metadata": {},
   "outputs": [
    {
     "ename": "ValueError",
     "evalue": "could not convert string to float: ''",
     "output_type": "error",
     "traceback": [
      "\u001b[0;31m---------------------------------------------------------------------------\u001b[0m",
      "\u001b[0;31mValueError\u001b[0m                                Traceback (most recent call last)",
      "Cell \u001b[0;32mIn[57], line 42\u001b[0m\n\u001b[1;32m     39\u001b[0m             \u001b[38;5;28mprint\u001b[39m(\u001b[38;5;124m\"\u001b[39m\u001b[38;5;124mName not found!\u001b[39m\u001b[38;5;124m\"\u001b[39m)\n\u001b[1;32m     41\u001b[0m \u001b[38;5;28;01mif\u001b[39;00m \u001b[38;5;18m__name__\u001b[39m \u001b[38;5;241m==\u001b[39m \u001b[38;5;124m\"\u001b[39m\u001b[38;5;124m__main__\u001b[39m\u001b[38;5;124m\"\u001b[39m:\n\u001b[0;32m---> 42\u001b[0m     \u001b[43mmain\u001b[49m\u001b[43m(\u001b[49m\u001b[43m)\u001b[49m\n",
      "Cell \u001b[0;32mIn[57], line 11\u001b[0m, in \u001b[0;36mmain\u001b[0;34m()\u001b[0m\n\u001b[1;32m      9\u001b[0m     \u001b[38;5;28;01mbreak\u001b[39;00m\n\u001b[1;32m     10\u001b[0m date \u001b[38;5;241m=\u001b[39m \u001b[38;5;28minput\u001b[39m(\u001b[38;5;124m\"\u001b[39m\u001b[38;5;124m24-09-04\u001b[39m\u001b[38;5;124m\"\u001b[39m)\n\u001b[0;32m---> 11\u001b[0m hours_worked \u001b[38;5;241m=\u001b[39m \u001b[38;5;28;43mfloat\u001b[39;49m\u001b[43m(\u001b[49m\u001b[38;5;28;43minput\u001b[39;49m\u001b[43m(\u001b[49m\u001b[38;5;124;43m\"\u001b[39;49m\u001b[38;5;124;43m7\u001b[39;49m\u001b[38;5;124;43m\"\u001b[39;49m\u001b[43m)\u001b[49m\u001b[43m)\u001b[49m\n\u001b[1;32m     12\u001b[0m lunch_expense \u001b[38;5;241m=\u001b[39m \u001b[38;5;28mfloat\u001b[39m(\u001b[38;5;28minput\u001b[39m(\u001b[38;5;124m\"\u001b[39m\u001b[38;5;124m10\u001b[39m\u001b[38;5;124m\"\u001b[39m))\n\u001b[1;32m     14\u001b[0m \u001b[38;5;66;03m# Storing data in a dictionary\u001b[39;00m\n",
      "\u001b[0;31mValueError\u001b[0m: could not convert string to float: ''"
     ]
    }
   ],
   "source": [
    "def main():\n",
    "    # Initialize an empty dictionary to store user data\n",
    "    users = {}\n",
    "\n",
    "    while True:\n",
    "        # Input section\n",
    "        user_name = input(\"Shaun\")\n",
    "        if user_name.lower() == 'done':\n",
    "            break\n",
    "        date = input(\"24-09-04\")\n",
    "        hours_worked = float(input(\"7\"))\n",
    "        lunch_expense = float(input(\"10\"))\n",
    "\n",
    "        # Storing data in a dictionary\n",
    "        users[user_name] = {\n",
    "            'date': date,\n",
    "            'hours_worked': hours_worked,\n",
    "            'lunch_expense': lunch_expense\n",
    "        }\n",
    "\n",
    "    # Processing section to calculate total hours and average lunch expense\n",
    "    total_hours = sum(user['hours_worked'] for user in users.values())\n",
    "    if users:\n",
    "        average_lunch = sum(user['lunch_expense'] for user in users.values()) / len(users)\n",
    "    else:\n",
    "        average_lunch = 0\n",
    "\n",
    "    # Output section using f-string for formatting\n",
    "    print(f\"Total hours worked: {total_hours:.2f}\")\n",
    "    print(f\"Average lunch expense: ${average_lunch:.2f}\")\n",
    "\n",
    "    # Optional: Deleting an entry\n",
    "    if input(\"Do you want to delete any entry? (yes/no) \") == 'yes':\n",
    "        delete_name = input(\"Enter the name whose entry you want to delete: \")\n",
    "        if delete_name in users:\n",
    "            del users[delete_name]\n",
    "            print(f\"Entry for {delete_name} deleted.\")\n",
    "        else:\n",
    "            print(\"Name not found!\")\n",
    "\n",
    "if __name__ == \"__main__\":\n",
    "    main()\n"
   ]
  },
  {
   "cell_type": "code",
   "execution_count": 59,
   "metadata": {},
   "outputs": [],
   "source": [
    "def get_float_input(prompt, default_value):\n",
    "    try:\n",
    "        # Show the prompt and get input\n",
    "        user_input = input(prompt)\n",
    "        # Convert to float if the user has entered something, else return default\n",
    "        return float(user_input) if user_input else default_value\n",
    "    except ValueError:\n",
    "        print(\"Invalid input, using default value.\")\n",
    "        return default_value\n",
    "\n",
    "def main():\n",
    "    # Initialize an empty dictionary to store user data\n",
    "    users = {}\n",
    "\n",
    "    while True:\n",
    "        user_name = input(\"Enter your name (or type 'done' to finish): \")\n",
    "        if user_name.lower() == 'done':\n",
    "            break\n",
    "        date = input(\"Enter today's date (e.g., 2024-09-04): \")\n",
    "\n",
    "        # Use the modified input function with default values\n",
    "        hours_worked = get_float_input(\"Enter your daily hours of work today (default 7): \", 7)\n",
    "        lunch_expense = get_float_input(\"Enter your money spent on lunch today (default $10): \", 10)\n",
    "\n",
    "        # Storing data in a dictionary\n",
    "        users[user_name] = {\n",
    "            'date': date,\n",
    "            'hours_worked': hours_worked,\n",
    "            'lunch_expense': lunch_expense\n",
    "        }\n",
    "\n",
    "    # Add your processing and output sections here as before\n",
    "\n",
    "if __name__ == \"__main__\":\n",
    "    main()\n"
   ]
  }
 ],
 "metadata": {
  "interpreter": {
   "hash": "0e4771abb73651cc71498e03f3559c7e0f15f38d5124065b3832974a7bbffea7"
  },
  "kernelspec": {
   "display_name": "Python 3.8.5 64-bit ('nf_base': conda)",
   "name": "python3"
  },
  "language_info": {
   "codemirror_mode": {
    "name": "ipython",
    "version": 3
   },
   "file_extension": ".py",
   "mimetype": "text/x-python",
   "name": "python",
   "nbconvert_exporter": "python",
   "pygments_lexer": "ipython3",
   "version": "3.12.1"
  }
 },
 "nbformat": 4,
 "nbformat_minor": 4
}
