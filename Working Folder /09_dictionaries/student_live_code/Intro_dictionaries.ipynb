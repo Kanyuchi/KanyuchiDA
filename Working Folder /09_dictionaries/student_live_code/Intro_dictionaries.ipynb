{
 "cells": [
  {
   "cell_type": "markdown",
   "metadata": {},
   "source": [
    "### Python Dictionaries"
   ]
  },
  {
   "cell_type": "markdown",
   "metadata": {},
   "source": [
    "\n",
    "We want to store information about the frequency of names for newborn babies:\n",
    "\n",
    "name  |  frequency\n",
    "---|---|\n",
    "Alice      |   234\n",
    "Emily     |   387\n",
    "Madison      | 103"
   ]
  },
  {
   "cell_type": "code",
   "execution_count": 1,
   "metadata": {},
   "outputs": [],
   "source": [
    "# we can represent this information in a list:\n",
    "namecounts = ['Alice', 234, 'Emily', 387, 'Madison', 103]"
   ]
  },
  {
   "cell_type": "markdown",
   "metadata": {},
   "source": [
    "What issues do you see with this code? Can you come up with better data structure to represent this information?"
   ]
  },
  {
   "cell_type": "markdown",
   "metadata": {},
   "source": [
    "### Introduction to Dictionaries"
   ]
  },
  {
   "cell_type": "markdown",
   "metadata": {},
   "source": [
    "Dictionaries consist of key-value pairs. They are very versatile data structures and good for looking up things, or searching in general."
   ]
  },
  {
   "cell_type": "markdown",
   "metadata": {},
   "source": [
    "### Creation of Dictionaries"
   ]
  },
  {
   "cell_type": "code",
   "execution_count": 4,
   "metadata": {},
   "outputs": [],
   "source": [
    "babynames_frequency = {\n",
    "   'Alice':234,\n",
    "   'Emily':387,\n",
    "   'Madison':103\n",
    "}"
   ]
  },
  {
   "cell_type": "markdown",
   "metadata": {},
   "source": [
    "- keys: Alice, Emily, Madison\n",
    "- values: 234, 387, 103"
   ]
  },
  {
   "cell_type": "markdown",
   "metadata": {},
   "source": [
    "### Accessing elements of a dictionary"
   ]
  },
  {
   "cell_type": "code",
   "execution_count": null,
   "metadata": {},
   "outputs": [],
   "source": [
    "# you type here"
   ]
  },
  {
   "cell_type": "code",
   "execution_count": 3,
   "metadata": {},
   "outputs": [
    {
     "ename": "KeyError",
     "evalue": "'Anna'",
     "output_type": "error",
     "traceback": [
      "\u001b[0;31m---------------------------------------------------------------------------\u001b[0m",
      "\u001b[0;31mKeyError\u001b[0m                                  Traceback (most recent call last)",
      "\u001b[1;32m/Users/alexandramai/neuefische/cgn-analytics-23-4-python/Data_Structures/Intro_dictionaries.ipynb Cell 12\u001b[0m line \u001b[0;36m1\n\u001b[0;32m----> <a href='vscode-notebook-cell:/Users/alexandramai/neuefische/cgn-analytics-23-4-python/Data_Structures/Intro_dictionaries.ipynb#X14sZmlsZQ%3D%3D?line=0'>1</a>\u001b[0m babynames_frequency[\u001b[39m'\u001b[39;49m\u001b[39mAnna\u001b[39;49m\u001b[39m'\u001b[39;49m]\n",
      "\u001b[0;31mKeyError\u001b[0m: 'Anna'"
     ]
    }
   ],
   "source": [
    "# you type here"
   ]
  },
  {
   "cell_type": "code",
   "execution_count": 4,
   "metadata": {},
   "outputs": [
    {
     "data": {
      "text/plain": [
       "'sorry not found'"
      ]
     },
     "execution_count": 4,
     "metadata": {},
     "output_type": "execute_result"
    }
   ],
   "source": [
    "# With the get() method you can assign an alternative value if the key was not found:\n",
    "\n",
    "babynames_frequency.get('Anna','sorry not found')"
   ]
  },
  {
   "cell_type": "markdown",
   "metadata": {},
   "source": [
    "### Find-the-Error Challenge!"
   ]
  },
  {
   "cell_type": "code",
   "execution_count": null,
   "metadata": {},
   "outputs": [],
   "source": [
    "# Given dictionary\n",
    "student_grades = {'Alice': 88, 'Bob': 75, 'Emily': 92}\n",
    "\n",
    "# Intentional Error: Key Error\n",
    "print(student_grades['Alice', 'Bob'])\n",
    "\n",
    "# Task: Correct the code above to print Alice's and Bob's grades.\n"
   ]
  },
  {
   "cell_type": "markdown",
   "metadata": {},
   "source": [
    "### Updating a dictionary"
   ]
  },
  {
   "cell_type": "code",
   "execution_count": 5,
   "metadata": {},
   "outputs": [],
   "source": [
    "babynames_frequency['Peter'] = # you type here"
   ]
  },
  {
   "cell_type": "code",
   "execution_count": 6,
   "metadata": {},
   "outputs": [
    {
     "data": {
      "text/plain": [
       "{'Alice': 234, 'Emily': 387, 'Madison': 103, 'Peter': 300}"
      ]
     },
     "execution_count": 6,
     "metadata": {},
     "output_type": "execute_result"
    }
   ],
   "source": [
    "# you type here"
   ]
  },
  {
   "cell_type": "markdown",
   "metadata": {},
   "source": [
    "### Checking whether a key exists"
   ]
  },
  {
   "cell_type": "code",
   "execution_count": 7,
   "metadata": {},
   "outputs": [
    {
     "data": {
      "text/plain": [
       "True"
      ]
     },
     "execution_count": 7,
     "metadata": {},
     "output_type": "execute_result"
    }
   ],
   "source": [
    "# you type here"
   ]
  },
  {
   "cell_type": "markdown",
   "metadata": {},
   "source": [
    "### What do these commands produce?"
   ]
  },
  {
   "cell_type": "code",
   "execution_count": null,
   "metadata": {},
   "outputs": [],
   "source": [
    "animals = {'cat':'Katze', 'dog':'Hund', 'fish':'Fisch'}\n",
    "\n",
    "### 1.\n",
    "# you type here\n",
    "\n",
    "### 2.\n",
    "# you type here\n",
    "\n",
    "### 3.\n",
    "# you type here"
   ]
  },
  {
   "cell_type": "markdown",
   "metadata": {},
   "source": [
    "### Dictionary Methods\n",
    "\n",
    "To get a list of all dictionary methods and built-in functions, please check the documentation page: [Link to docs](https://docs.python.org/3/library/stdtypes.html#typesmapping)."
   ]
  },
  {
   "cell_type": "markdown",
   "metadata": {},
   "source": [
    "#### List all keys"
   ]
  },
  {
   "cell_type": "code",
   "execution_count": 11,
   "metadata": {},
   "outputs": [
    {
     "data": {
      "text/plain": [
       "['Alice', 'Emily', 'Madison', 'Peter']"
      ]
     },
     "execution_count": 11,
     "metadata": {},
     "output_type": "execute_result"
    }
   ],
   "source": [
    "list(babynames_frequency.keys())"
   ]
  },
  {
   "cell_type": "markdown",
   "metadata": {},
   "source": [
    "#### List all values"
   ]
  },
  {
   "cell_type": "code",
   "execution_count": 12,
   "metadata": {},
   "outputs": [
    {
     "data": {
      "text/plain": [
       "[234, 387, 103, 300]"
      ]
     },
     "execution_count": 12,
     "metadata": {},
     "output_type": "execute_result"
    }
   ],
   "source": [
    "# you type here"
   ]
  },
  {
   "cell_type": "markdown",
   "metadata": {},
   "source": [
    "#### Number of elements in a dictionary"
   ]
  },
  {
   "cell_type": "code",
   "execution_count": 13,
   "metadata": {},
   "outputs": [
    {
     "data": {
      "text/plain": [
       "4"
      ]
     },
     "execution_count": 13,
     "metadata": {},
     "output_type": "execute_result"
    }
   ],
   "source": [
    "len(babynames_frequency)"
   ]
  },
  {
   "cell_type": "markdown",
   "metadata": {},
   "source": [
    "### Merging two dictionaries"
   ]
  },
  {
   "cell_type": "code",
   "execution_count": 12,
   "metadata": {},
   "outputs": [],
   "source": [
    "# Sample dictionaries\n",
    "dict1 = {'x': 1, 'y': 2}\n",
    "dict2 = {'y': 3, 'z': 4}\n",
    "\n",
    "dict1.update(dict2)\n"
   ]
  },
  {
   "cell_type": "markdown",
   "metadata": {},
   "source": [
    "### Live - Challenge"
   ]
  },
  {
   "cell_type": "code",
   "execution_count": 13,
   "metadata": {},
   "outputs": [],
   "source": [
    "# Sample data\n",
    "grades = {'Math': 95, 'Science': 85, 'English': 90}\n",
    "\n",
    "# Calculate the average grade"
   ]
  },
  {
   "cell_type": "markdown",
   "metadata": {},
   "source": [
    "### Nested Dictionaries"
   ]
  },
  {
   "cell_type": "markdown",
   "metadata": {},
   "source": [
    "Dictionaries are often used to store raw unprocessed data. For example data you received from a web-scraper. The structure of unprocessed data can be complex and typically you need nested dictionaries to reflect the raw data correclty. Here is one example:"
   ]
  },
  {
   "cell_type": "code",
   "execution_count": 2,
   "metadata": {},
   "outputs": [],
   "source": [
    "user_info = {\n",
    "    \"John\": {\n",
    "        \"number\" : \"+61 2 3617 9451\",\n",
    "        \"age\" : 19,\n",
    "        \"address\" : [\n",
    "            \"10/365 Pacific Highway, Hornsby\",\n",
    "            \"Sydney, New South Wales\",\n",
    "            \"Australia – 2077.\"\n",
    "        ]\n",
    "    },\n",
    "    \"Ravi\" : {\n",
    "        \"number\" : \"+91 9972354015\",\n",
    "        \"age\" : 21,\n",
    "        \"address\" : [\n",
    "            \"110 New Vora House, Koramangala\",\n",
    "            \"Bengaluru, Karnataka\",\n",
    "            \"India – 560078.\"\n",
    "        ]\n",
    "    }\n",
    "}"
   ]
  },
  {
   "cell_type": "markdown",
   "metadata": {},
   "source": [
    "- How many elements does this dictionary have?\n",
    "- What are the keys and what are the values?\n",
    "- Let's try to access a few of the nested values."
   ]
  },
  {
   "cell_type": "markdown",
   "metadata": {},
   "source": [
    "### Recap"
   ]
  },
  {
   "cell_type": "markdown",
   "metadata": {},
   "source": [
    "command  |  description\n",
    "---|---\n",
    "`ratios = {'Alice': 0.75, 'Bob': 0.55}`      |   dict creation\n",
    "`ratios['Alice']`      |   accessing elements\n",
    "`ratios.get('Alice', 'does not exist')`      | accessing without error\n",
    "`ratios['Tim'] = 0.43`       |     adding entries\n",
    "`ratios.keys()`       |   get they keys of a dict\n",
    "`ratios.values()`       |     get the values of a dict\n",
    "`ratios.items()`   | get both keys and values \n",
    "`ratios.update()`  | merging two dictionaries"
   ]
  }
 ],
 "metadata": {
  "kernelspec": {
   "display_name": "nf_base",
   "language": "python",
   "name": "python3"
  },
  "language_info": {
   "codemirror_mode": {
    "name": "ipython",
    "version": 3
   },
   "file_extension": ".py",
   "mimetype": "text/x-python",
   "name": "python",
   "nbconvert_exporter": "python",
   "pygments_lexer": "ipython3",
   "version": "3.10.13"
  }
 },
 "nbformat": 4,
 "nbformat_minor": 2
}
