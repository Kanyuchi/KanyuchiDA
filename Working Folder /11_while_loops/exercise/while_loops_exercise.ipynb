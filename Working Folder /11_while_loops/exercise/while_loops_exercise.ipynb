{
 "cells": [
  {
   "cell_type": "markdown",
   "metadata": {},
   "source": [
    "### --- WHILE LOOP EXERCISES ---"
   ]
  },
  {
   "cell_type": "markdown",
   "metadata": {},
   "source": [
    "### Infinte Loop Question"
   ]
  },
  {
   "cell_type": "markdown",
   "metadata": {},
   "source": [
    "Q1: The following cell has code containing an infinte loop in it. Change it so that when run, it will stop. \n",
    "If you try something and nothing is printed, then an infinite loop is probably still there. \n",
    "To stop the notebook from calculating on forever, navigate to the top bar, click on the *Kernel* tab, and click on *Interrupt*. \n",
    "This forcibly stops Python from executing.  "
   ]
  },
  {
   "cell_type": "code",
   "execution_count": 1,
   "metadata": {},
   "outputs": [
    {
     "ename": "KeyboardInterrupt",
     "evalue": "",
     "output_type": "error",
     "traceback": [
      "\u001b[0;31m---------------------------------------------------------------------------\u001b[0m",
      "\u001b[0;31mKeyboardInterrupt\u001b[0m                         Traceback (most recent call last)",
      "\u001b[1;32m/Users/alexandramai/neuefische/cgn-analytics-23-4-python/Basics/Exercises/loops_exercise.ipynb Cell 26\u001b[0m line \u001b[0;36m3\n\u001b[1;32m      <a href='vscode-notebook-cell:/Users/alexandramai/neuefische/cgn-analytics-23-4-python/Basics/Exercises/loops_exercise.ipynb#X34sZmlsZQ%3D%3D?line=0'>1</a>\u001b[0m total, x \u001b[39m=\u001b[39m \u001b[39m0\u001b[39m, \u001b[39m1\u001b[39m\n\u001b[1;32m      <a href='vscode-notebook-cell:/Users/alexandramai/neuefische/cgn-analytics-23-4-python/Basics/Exercises/loops_exercise.ipynb#X34sZmlsZQ%3D%3D?line=1'>2</a>\u001b[0m \u001b[39mwhile\u001b[39;00m x \u001b[39m>\u001b[39m\u001b[39m=\u001b[39m \u001b[39m0\u001b[39m:\n\u001b[0;32m----> <a href='vscode-notebook-cell:/Users/alexandramai/neuefische/cgn-analytics-23-4-python/Basics/Exercises/loops_exercise.ipynb#X34sZmlsZQ%3D%3D?line=2'>3</a>\u001b[0m     total \u001b[39m+\u001b[39m\u001b[39m=\u001b[39m x\n\u001b[1;32m      <a href='vscode-notebook-cell:/Users/alexandramai/neuefische/cgn-analytics-23-4-python/Basics/Exercises/loops_exercise.ipynb#X34sZmlsZQ%3D%3D?line=3'>4</a>\u001b[0m     x \u001b[39m+\u001b[39m\u001b[39m=\u001b[39m \u001b[39m1\u001b[39m\n\u001b[1;32m      <a href='vscode-notebook-cell:/Users/alexandramai/neuefische/cgn-analytics-23-4-python/Basics/Exercises/loops_exercise.ipynb#X34sZmlsZQ%3D%3D?line=4'>5</a>\u001b[0m \u001b[39mprint\u001b[39m(total)\n",
      "\u001b[0;31mKeyboardInterrupt\u001b[0m: "
     ]
    }
   ],
   "source": [
    "total, x = 0, 1\n",
    "while x >= 0:\n",
    "    total += x\n",
    "    x += 1\n",
    "print(total)"
   ]
  },
  {
   "cell_type": "markdown",
   "metadata": {},
   "source": [
    "### while loop to sum number from 1 to 10"
   ]
  },
  {
   "cell_type": "markdown",
   "metadata": {},
   "source": [
    "Q2: use a while loop to sum number from 1 to 10"
   ]
  },
  {
   "cell_type": "code",
   "execution_count": null,
   "metadata": {},
   "outputs": [],
   "source": [
    "i = 1\n",
    "num_sum = 0\n",
    "\n",
    "# Enter code below"
   ]
  },
  {
   "cell_type": "markdown",
   "metadata": {},
   "source": [
    "### While loop for searching a data structure"
   ]
  },
  {
   "cell_type": "markdown",
   "metadata": {},
   "source": [
    "Q3: Write a while loop that searches for 'Waldo' in the list of names and stops if it is found.\n"
   ]
  },
  {
   "cell_type": "code",
   "execution_count": null,
   "metadata": {},
   "outputs": [],
   "source": [
    "\n",
    "names  = ['Alice', 'Diane', 'Tom', 'Bob', 'Waldo', 'Ross', 'Sonia', 'Amy']\n",
    "\n",
    "found = False\n",
    "i = 0"
   ]
  },
  {
   "cell_type": "code",
   "execution_count": null,
   "metadata": {},
   "outputs": [],
   "source": [
    "# Enter code below\n"
   ]
  },
  {
   "cell_type": "markdown",
   "metadata": {},
   "source": [
    "Q4: but what if Waldo is not there ?? Take the loop from Q3 and add a condition to print 'We found Waldo!' if 'Waldo' was found."
   ]
  },
  {
   "cell_type": "code",
   "execution_count": null,
   "metadata": {},
   "outputs": [],
   "source": [
    "names = ['Alice', 'Diane', 'Tom', 'Bob', 'Harry', 'Ross', 'Sonia', 'Amy']\n",
    "\n",
    "found = False\n",
    "i = 0"
   ]
  },
  {
   "cell_type": "code",
   "execution_count": null,
   "metadata": {},
   "outputs": [],
   "source": [
    "# Enter code below\n"
   ]
  }
 ],
 "metadata": {
  "kernelspec": {
   "display_name": "nf_base",
   "language": "python",
   "name": "python3"
  },
  "language_info": {
   "codemirror_mode": {
    "name": "ipython",
    "version": 3
   },
   "file_extension": ".py",
   "mimetype": "text/x-python",
   "name": "python",
   "nbconvert_exporter": "python",
   "pygments_lexer": "ipython3",
   "version": "3.9.17"
  },
  "orig_nbformat": 4
 },
 "nbformat": 4,
 "nbformat_minor": 2
}
