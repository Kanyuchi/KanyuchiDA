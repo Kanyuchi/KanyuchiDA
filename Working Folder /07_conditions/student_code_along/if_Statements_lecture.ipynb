{
 "cells": [
  {
   "cell_type": "markdown",
   "id": "5d5bc390",
   "metadata": {},
   "source": [
    "# Python `if` Statements"
   ]
  },
  {
   "cell_type": "markdown",
   "id": "4d7f69b3",
   "metadata": {},
   "source": [
    "### 1. Introduction"
   ]
  },
  {
   "cell_type": "markdown",
   "id": "5f17f2cd",
   "metadata": {},
   "source": [
    "#### Importance of if Statements in Controlling the Flow of a Program\n",
    "If statements are one of the fundamental concepts in most programming languages. They define the logic of a program by evaluating certain conditions. Based on these conditions, If statements help in making decisions, handling errors, and responding to user inputs."
   ]
  },
  {
   "cell_type": "markdown",
   "id": "7d640246",
   "metadata": {},
   "source": [
    "### 2. Comparison Operators and Conditions"
   ]
  },
  {
   "cell_type": "markdown",
   "id": "afe390b1",
   "metadata": {},
   "source": [
    "**Comparison operators** are used to compare two values. They return a Boolean value (`True` or `False`) based on the comparison. \n",
    "\n",
    "The main comparison operators in Python are:\n",
    "\n",
    "`==` (equal to)  \n",
    "`!=` (not equal to)  \n",
    "`>` (greater than)  \n",
    "`<` (less than)  \n",
    "`>=` (greater than or equal to)  \n",
    "`<=` (less than or equal to)  "
   ]
  },
  {
   "cell_type": "markdown",
   "id": "ab2f0af3",
   "metadata": {},
   "source": [
    "A **condition** is an expression that evaluates to either `True` or `False`. "
   ]
  },
  {
   "cell_type": "markdown",
   "id": "5a645aa3",
   "metadata": {},
   "source": [
    "Examples:"
   ]
  },
  {
   "cell_type": "code",
   "execution_count": null,
   "id": "215bcf44",
   "metadata": {},
   "outputs": [],
   "source": [
    "# defining variables\n",
    "a = 5\n",
    "b = 10"
   ]
  },
  {
   "cell_type": "code",
   "execution_count": null,
   "id": "e6399f3c",
   "metadata": {},
   "outputs": [],
   "source": [
    "a == b "
   ]
  },
  {
   "cell_type": "code",
   "execution_count": null,
   "id": "f4383fbc",
   "metadata": {},
   "outputs": [],
   "source": [
    "a != b"
   ]
  },
  {
   "cell_type": "code",
   "execution_count": null,
   "id": "0efe6257",
   "metadata": {},
   "outputs": [],
   "source": [
    "a > b"
   ]
  },
  {
   "cell_type": "code",
   "execution_count": null,
   "id": "53e97aae",
   "metadata": {},
   "outputs": [],
   "source": [
    "a < b"
   ]
  },
  {
   "cell_type": "code",
   "execution_count": null,
   "id": "0c6df4a8",
   "metadata": {},
   "outputs": [],
   "source": [
    "a >= b"
   ]
  },
  {
   "cell_type": "code",
   "execution_count": null,
   "id": "ed61e9a3",
   "metadata": {},
   "outputs": [],
   "source": [
    "a <= b"
   ]
  },
  {
   "cell_type": "markdown",
   "id": "1e06e8d8",
   "metadata": {},
   "source": [
    "`True` and `False` are what we call booleans in logic, and Python refers to them as bool (short for boolean). They are a special variable type with many potential uses, primarily serving as a way to label the truth of a statement. \n",
    "\n",
    "In Python, there are two specifically reserved words for booleans: `True` and `False`. \n",
    "\n",
    "Note that these begin with capital letters."
   ]
  },
  {
   "cell_type": "code",
   "execution_count": null,
   "id": "b7bccde9",
   "metadata": {
    "ExecuteTime": {
     "end_time": "2020-02-03T11:53:01.372095Z",
     "start_time": "2020-02-03T11:53:01.362664Z"
    }
   },
   "outputs": [],
   "source": [
    "type(True)"
   ]
  },
  {
   "cell_type": "code",
   "execution_count": null,
   "id": "dc67ce0a",
   "metadata": {
    "ExecuteTime": {
     "end_time": "2020-02-03T11:53:01.377605Z",
     "start_time": "2020-02-03T11:53:01.373799Z"
    }
   },
   "outputs": [],
   "source": [
    "type(False)"
   ]
  },
  {
   "cell_type": "markdown",
   "id": "15f236eb",
   "metadata": {},
   "source": [
    "### 3. Syntax of `if` Statements"
   ]
  },
  {
   "cell_type": "markdown",
   "id": "280697c9",
   "metadata": {},
   "source": [
    "The general syntax of an `if` statement in Python is:\n",
    "```python\n",
    "if condition:\n",
    "    if_block_statement\n",
    "```"
   ]
  },
  {
   "cell_type": "code",
   "execution_count": null,
   "id": "da377a06",
   "metadata": {},
   "outputs": [],
   "source": [
    "# Syntax of if statement\n",
    "x = 10\n",
    "\n",
    "if x > 5:\n",
    "    print(\"Number is greater than 5\")"
   ]
  },
  {
   "cell_type": "markdown",
   "id": "376232dc",
   "metadata": {},
   "source": [
    "The syntax of an if statement in detail:\n",
    "\n",
    "- **Logical Test:** The condition to be evaluated. A condition is an expression that evaluates to either `True` or `False`. \n",
    "    * If the condition is `True`, the block of code following the if statement is executed. \n",
    "    * If the condition is `False`, the block of code is skipped.\n",
    "\n",
    "- **Colon:** The colon (**:**) indicates the start of the block of code to execute if the condition is `True`.\n",
    "\n",
    "- **Indentation:** The block of code to execute must be indented. This indentation is crucial in Python as it defines the scope of the if statement.\n",
    "\n"
   ]
  },
  {
   "cell_type": "markdown",
   "id": "133e1b8a",
   "metadata": {},
   "source": [
    "#### Let's add user input\n",
    "Python has a built-in way to accept input from the user of a program."
   ]
  },
  {
   "cell_type": "code",
   "execution_count": null,
   "id": "c3dc6e84",
   "metadata": {},
   "outputs": [],
   "source": [
    "x = input('Please enter a number: ')\n",
    "print(x)"
   ]
  },
  {
   "cell_type": "markdown",
   "id": "1c4a3aae",
   "metadata": {},
   "source": [
    "**Note:** the `input()` function interprets the input as a string. If we want to treat the input as a number, we need to convert it using `int()` or `float()`, depending on the type of number we need."
   ]
  },
  {
   "cell_type": "code",
   "execution_count": null,
   "id": "e5f5703f",
   "metadata": {},
   "outputs": [],
   "source": [
    "type(x)"
   ]
  },
  {
   "cell_type": "code",
   "execution_count": null,
   "id": "e276fd18",
   "metadata": {
    "scrolled": true
   },
   "outputs": [],
   "source": [
    "x = int(input('Please enter a number: '))\n",
    "x > 4"
   ]
  },
  {
   "cell_type": "code",
   "execution_count": null,
   "id": "77e1df5b",
   "metadata": {},
   "outputs": [],
   "source": [
    "# user entry, casted as integer\n",
    "x = int(input('Please enter a number: '))\n",
    "\n",
    "# Add 10 to x when x is greater than 5 \n",
    "if x > 5:\n",
    "    x += 10\n",
    "print(x)"
   ]
  },
  {
   "cell_type": "markdown",
   "id": "094d9678",
   "metadata": {},
   "source": [
    "### 4. The if Statement Chain `if, elif, else`"
   ]
  },
  {
   "cell_type": "markdown",
   "id": "b8a33a43",
   "metadata": {},
   "source": [
    "What if we wanted to check more than one thing? What if we have more conditions?\n",
    "\n",
    "In addition to the `if`, Python provides us with two other statements to build out a logical chain of conditions, the `elif` and the `else`."
   ]
  },
  {
   "cell_type": "code",
   "execution_count": null,
   "id": "234c3a7f",
   "metadata": {},
   "outputs": [],
   "source": [
    "# if, elif, else chain\n",
    "\n",
    "score = 85\n",
    "\n",
    "if score >= 90:\n",
    "    print(\"Grade: A\")\n",
    "elif score >= 80:\n",
    "    print(\"Grade: B\")\n",
    "elif score >= 70:\n",
    "    print(\"Grade: C\")\n",
    "else:\n",
    "    print(\"Grade: F\")"
   ]
  },
  {
   "cell_type": "markdown",
   "id": "5406e275",
   "metadata": {},
   "source": [
    "**Explanation:**\n",
    "\n",
    "- The **if statement** tests a condition and executes the following block of code if the condition is `True`.  \n",
    "- The **elif (short for \"else if\") statement** tests another condition if the previous `if` or `elif` condition was `False`.  \n",
    "- The **else statement** executes a block of code if none of the previous conditions were `True`.  The `else` statement is optional. If there's no `else` statement, the program simply continues executing the next lines of code after the `if` block.\n",
    "\n",
    "In an `if, elif, else` structure, the program checks each condition in order. Once it finds a condition that is true, it executes the corresponding block of code and then exits the entire structure. This means it won’t check any further conditions. "
   ]
  },
  {
   "cell_type": "markdown",
   "id": "8ccce851",
   "metadata": {},
   "source": [
    "<img src=if_flowchart.png width=400>"
   ]
  },
  {
   "cell_type": "markdown",
   "id": "ee4501ae",
   "metadata": {},
   "source": [
    "### 5. Boolean Operators"
   ]
  },
  {
   "cell_type": "markdown",
   "id": "a48e4383",
   "metadata": {},
   "source": [
    "Boolean operators are used to combine multiple conditions. \n",
    "\n",
    "The main Boolean operators in Python are:  \n",
    "- **and**: Returns True if both conditions are True  \n",
    "- **or**: Returns True if at least one condition is True  \n",
    "- **not**: Returns True if the condition is False  \n",
    "\n",
    "Examples:"
   ]
  },
  {
   "cell_type": "code",
   "execution_count": null,
   "id": "bd3b8406",
   "metadata": {},
   "outputs": [],
   "source": [
    "# Boolean Operators: or\n",
    "x = 7\n",
    "if x > 10 or x < 5:\n",
    "    print(x)"
   ]
  },
  {
   "cell_type": "code",
   "execution_count": null,
   "id": "4f44011e",
   "metadata": {},
   "outputs": [],
   "source": [
    "# Boolean Operators: and & not\n",
    "x = 6\n",
    "if not (x <= 10 and x >= 5):\n",
    "    print(x)"
   ]
  },
  {
   "cell_type": "markdown",
   "id": "5849a4fd",
   "metadata": {},
   "source": [
    "You can also combine several conditions with boolean operators:"
   ]
  },
  {
   "cell_type": "code",
   "execution_count": null,
   "id": "a66fc7d4",
   "metadata": {},
   "outputs": [],
   "source": [
    "country = \"US\"\n",
    "age = 18\n",
    "\n",
    "if (country == \"US\" and age>=21) or (country != \"US\" and age >= 18):\n",
    "    print(\"This person can legally drink alcohol!\")\n",
    "else:\n",
    "    print(\"You are either too young or in the wrong country!\")"
   ]
  },
  {
   "cell_type": "markdown",
   "id": "f54b878b",
   "metadata": {},
   "source": [
    "### 6. Nested If Statements"
   ]
  },
  {
   "cell_type": "markdown",
   "id": "b64bf69e",
   "metadata": {},
   "source": [
    "Nested if statements are `if` statements placed inside another `if` statement. They allow for more complex decision-making by testing multiple conditions in a hierarchical manner."
   ]
  },
  {
   "cell_type": "code",
   "execution_count": null,
   "id": "23cd3783",
   "metadata": {},
   "outputs": [],
   "source": [
    "# Nested if statements\n",
    "num = 10\n",
    "if num > 5:\n",
    "    if num < 15:\n",
    "        print(\"Number is between 5 and 15\")"
   ]
  },
  {
   "cell_type": "markdown",
   "id": "db745e9d",
   "metadata": {},
   "source": [
    "### 7. State Variables"
   ]
  },
  {
   "cell_type": "markdown",
   "id": "d0f0cf7d",
   "metadata": {},
   "source": [
    "Explanation of state variables: State variables are variables that store the state of an object or system. They are used to keep track of information that can change over time and affect the flow of the program.   "
   ]
  },
  {
   "cell_type": "code",
   "execution_count": null,
   "id": "4f9d7ddb",
   "metadata": {},
   "outputs": [],
   "source": [
    "# State Variables\n",
    "is_logged_in = True\n",
    "\n",
    "if is_logged_in:\n",
    "    print(\"Welcome back!\")\n",
    "else:\n",
    "    print(\"Please log in.\")"
   ]
  },
  {
   "cell_type": "markdown",
   "id": "d91a53b3",
   "metadata": {},
   "source": [
    "### 8. Conclusion and Q&A"
   ]
  },
  {
   "cell_type": "markdown",
   "id": "802aca78",
   "metadata": {},
   "source": [
    "Recap of the key points covered in the lecture.  \n",
    "Open the floor for questions and discussion."
   ]
  }
 ],
 "metadata": {
  "kernelspec": {
   "display_name": "Python 3 (ipykernel)",
   "language": "python",
   "name": "python3"
  },
  "language_info": {
   "codemirror_mode": {
    "name": "ipython",
    "version": 3
   },
   "file_extension": ".py",
   "mimetype": "text/x-python",
   "name": "python",
   "nbconvert_exporter": "python",
   "pygments_lexer": "ipython3",
   "version": "3.9.12"
  }
 },
 "nbformat": 4,
 "nbformat_minor": 5
}
